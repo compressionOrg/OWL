{
 "cells": [
  {
   "cell_type": "code",
   "execution_count": 1,
   "metadata": {},
   "outputs": [],
   "source": [
    "import time \n",
    "import heapq \n",
    "import torch \n",
    "import torch.nn as nn \n",
    "from lib.sparsegpt import SparseGPT \n",
    "from lib.layerwrapper import WrappedGPT\n",
    "from lib.data import get_loaders \n",
    "import numpy as np\n",
    "from pdb import set_trace as st \n",
    "from collections import defaultdict\n",
    "from lib.utils import get_entropy,normalize,get_cv, cal_mhl_dis, get_z_scores_sum, get_z_scores\n",
    "import json"
   ]
  },
  {
   "cell_type": "code",
   "execution_count": null,
   "metadata": {},
   "outputs": [],
   "source": []
  }
 ],
 "metadata": {
  "kernelspec": {
   "display_name": "owl",
   "language": "python",
   "name": "python3"
  },
  "language_info": {
   "codemirror_mode": {
    "name": "ipython",
    "version": 3
   },
   "file_extension": ".py",
   "mimetype": "text/x-python",
   "name": "python",
   "nbconvert_exporter": "python",
   "pygments_lexer": "ipython3",
   "version": "3.10.14"
  }
 },
 "nbformat": 4,
 "nbformat_minor": 2
}
