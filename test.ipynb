{
 "cells": [
  {
   "cell_type": "code",
   "execution_count": 2,
   "metadata": {},
   "outputs": [],
   "source": [
    "import json"
   ]
  },
  {
   "cell_type": "code",
   "execution_count": 3,
   "metadata": {},
   "outputs": [
    {
     "name": "stdout",
     "output_type": "stream",
     "text": [
      "[0.49875980615615845, 0.5015048384666443, 0.5185309648513794, 0.4992193877696991, 0.49945107102394104, 0.4995068311691284, 0.49945855140686035, 0.4996931552886963, 0.49984124302864075, 0.49979376792907715, 0.5000839829444885, 0.5000125169754028, 0.5001389384269714, 0.4998425841331482, 0.49959349632263184, 0.4994674324989319, 0.49947062134742737, 0.49924516677856445, 0.4989243447780609, 0.4988171458244324, 0.49870291352272034, 0.4986344277858734, 0.49857422709465027, 0.4987165331840515, 0.4986020624637604, 0.49853095412254333, 0.49859949946403503, 0.4985346496105194, 0.4985576868057251, 0.4986305236816406, 0.4997022747993469, 0.5028584599494934]\n"
     ]
    }
   ],
   "source": [
    "with open(\"all_layer_ratio_0.5_0.01.json\", 'r', encoding='utf-8') as json_file:\n",
    "    data = json.load(json_file)\n",
    "    print(data)"
   ]
  }
 ],
 "metadata": {
  "kernelspec": {
   "display_name": "prune",
   "language": "python",
   "name": "python3"
  },
  "language_info": {
   "codemirror_mode": {
    "name": "ipython",
    "version": 3
   },
   "file_extension": ".py",
   "mimetype": "text/x-python",
   "name": "python",
   "nbconvert_exporter": "python",
   "pygments_lexer": "ipython3",
   "version": "3.10.14"
  }
 },
 "nbformat": 4,
 "nbformat_minor": 2
}
